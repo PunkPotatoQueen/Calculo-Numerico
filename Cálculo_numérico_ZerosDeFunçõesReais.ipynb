{
  "nbformat": 4,
  "nbformat_minor": 0,
  "metadata": {
    "colab": {
      "provenance": [],
      "authorship_tag": "ABX9TyPUxWTGNdFYFNyhCBJwrU6b",
      "include_colab_link": true
    },
    "kernelspec": {
      "name": "python3",
      "display_name": "Python 3"
    },
    "language_info": {
      "name": "python"
    }
  },
  "cells": [
    {
      "cell_type": "markdown",
      "metadata": {
        "id": "view-in-github",
        "colab_type": "text"
      },
      "source": [
        "<a href=\"https://colab.research.google.com/github/PunkPotatoQueen/Calculo-Numerico/blob/main/C%C3%A1lculo_num%C3%A9rico_ZerosDeFun%C3%A7%C3%B5esReais.ipynb\" target=\"_parent\"><img src=\"https://colab.research.google.com/assets/colab-badge.svg\" alt=\"Open In Colab\"/></a>"
      ]
    },
    {
      "cell_type": "code",
      "source": [
        "#MÉTODO DA SECANTE\n",
        "import math\n",
        "\n",
        "def f(x):\n",
        "  return math.pow(2,x)-3*x\n",
        "\n",
        "#intervalo\n",
        "x0 = 0\n",
        "x1 = 1\n",
        "\n",
        "#percisão\n",
        "erro = 0.00009\n",
        "\n",
        "k = 0\n",
        "\n",
        "while abs (f(x1))>erro:\n",
        "  if abs(x0-x1)<erro:\n",
        "    break\n",
        "  x2 = (x0*f(x1)-x1*f(x0))/(f(x1)-f(x0))\n",
        "  x0 = x1\n",
        "  x1 = x2\n",
        "  k = k + 1\n",
        "\n",
        "print('A raiz encontrada foi de ' , x1)\n",
        "print('O número de iteraçõs foi ', k)"
      ],
      "metadata": {
        "colab": {
          "base_uri": "https://localhost:8080/"
        },
        "id": "g5u3TJSqQgGB",
        "outputId": "82317194-5a64-46e0-a342-d2f777864127"
      },
      "execution_count": null,
      "outputs": [
        {
          "output_type": "stream",
          "name": "stdout",
          "text": [
            "A raiz encontrada foi de  0.45785506538478404\n",
            "O número de iteraçõs foi  3\n"
          ]
        }
      ]
    },
    {
      "cell_type": "code",
      "source": [
        "#MÉTODO DE NEWTON\n",
        "import math\n",
        "\n",
        "def f(x):\n",
        "  return math.pow(2,x)-3*x\n",
        "\n",
        "#derivada\n",
        "def flinha(x):\n",
        "  return math.log(2)*math.pow(2,x)-3\n",
        "\n",
        "#Função de iteração\n",
        "def phi(x):\n",
        "  return  x- f(x)/flinha(x)\n",
        "\n",
        "#aproximação inicial\n",
        "x_k = 0\n",
        "\n",
        "#erro\n",
        "erro = 0.00009\n",
        "\n",
        "#contagem de iterações\n",
        "k = 0\n",
        "\n",
        "while abs(f(x_k))>erro:\n",
        "  x_k = phi(x_k)\n",
        "  k = k+1\n",
        "\n",
        "print('A raiz encontrada foi de ' , x_k)\n",
        "print('O número de iteraçõs foi ', k)"
      ],
      "metadata": {
        "colab": {
          "base_uri": "https://localhost:8080/"
        },
        "id": "SsTzF9LavveZ",
        "outputId": "f39a34a1-5c8d-4350-d83a-b25534ed4c2e"
      },
      "execution_count": null,
      "outputs": [
        {
          "output_type": "stream",
          "name": "stdout",
          "text": [
            "A raiz encontrada foi de  0.4578223718211939\n",
            "O número de iteraçõs foi  3\n"
          ]
        }
      ]
    },
    {
      "cell_type": "code",
      "source": [
        "#PONTO FIXO\n",
        "import math\n",
        "\n",
        "def f(x):\n",
        "  return math.pow(2,x)-3*x\n",
        "\n",
        "#Função de iteração\n",
        "def phi(x):\n",
        "  return  math.pow(2,x)/3\n",
        "\n",
        "#aproximação inicial\n",
        "x_k = 1\n",
        "\n",
        "#erro\n",
        "erro = 0.00009\n",
        "\n",
        "#contagem de iterações\n",
        "k = 0\n",
        "\n",
        "while abs(f(x_k))>erro:\n",
        "  x_k = phi(x_k)\n",
        "  k = k+1\n",
        "\n",
        "print('A raiz encontrada foi de ' , x_k)\n",
        "print('O número de iteraçõs foi ', k)"
      ],
      "metadata": {
        "colab": {
          "base_uri": "https://localhost:8080/"
        },
        "id": "fWiafwnfrs9w",
        "outputId": "0c78afa1-087b-48c6-d7ab-8423bf153cd3"
      },
      "execution_count": null,
      "outputs": [
        {
          "output_type": "stream",
          "name": "stdout",
          "text": [
            "A raiz encontrada foi de  0.45784634625208587\n",
            "O número de iteraçõs foi  9\n"
          ]
        }
      ]
    },
    {
      "cell_type": "code",
      "source": [
        "#MÉTODO DA POSIÇÃO FALSA\n",
        "import math\n",
        "\n",
        "#método da função\n",
        "def f(x):\n",
        "  return math.pow(2,x)-3*x\n",
        "\n",
        "#definição dos pontos\n",
        "a = 0\n",
        "b = 1\n",
        "\n",
        "#precisão\n",
        "erro = 0.00009\n",
        "#iterações\n",
        "k = 0\n",
        "\n",
        "M = (a*f(b)-b*f(a))/(f(b)-f(a))\n",
        "\n",
        "#loop para procurar a raiz\n",
        "while abs(f(M))>erro:\n",
        "  M = (a*f(b)-b*f(a))/(f(b)-f(a))\n",
        "  if f(a)*f(M)<0:\n",
        "    b = M\n",
        "  else:\n",
        "    a = M\n",
        "  k = k+1\n",
        "\n",
        "print('A raiz encontrada foi de ' , M)\n",
        "print('O número de iteraçõs foi ', k)"
      ],
      "metadata": {
        "id": "hB3Bcy-zu0Sr",
        "colab": {
          "base_uri": "https://localhost:8080/"
        },
        "outputId": "5f5d8eb0-3806-4cb2-858b-8ba78e7db8c9"
      },
      "execution_count": null,
      "outputs": [
        {
          "output_type": "stream",
          "name": "stdout",
          "text": [
            "A raiz encontrada foi de  0.45783278914258657\n",
            "O número de iteraçõs foi  4\n"
          ]
        }
      ]
    },
    {
      "cell_type": "code",
      "execution_count": null,
      "metadata": {
        "id": "L_T_o-eJlJxy",
        "colab": {
          "base_uri": "https://localhost:8080/"
        },
        "outputId": "4ec306aa-9275-4292-fb8f-c8183704ea44"
      },
      "outputs": [
        {
          "output_type": "stream",
          "name": "stdout",
          "text": [
            "A raiz encontrada foi de  0.457794189453125\n",
            "O número de iteraçõs foi  14\n"
          ]
        }
      ],
      "source": [
        "#MÉTODO DA BISSECÇÃO\n",
        "import math\n",
        "\n",
        "#método da função\n",
        "def f(x):\n",
        "  return math.pow(2,x)-3*x\n",
        "\n",
        "#definição dos pontos\n",
        "a = 0\n",
        "b = 1\n",
        "\n",
        "#precisão\n",
        "erro = 0.00009\n",
        "#iterações\n",
        "k = 0\n",
        "\n",
        "#loop para procurar a raiz\n",
        "while b-a>erro:\n",
        "  M = (a+b)/2\n",
        "  if f(a)*f(M)<0:\n",
        "    b = M\n",
        "  else:\n",
        "    a = M\n",
        "  k = k+1\n",
        "\n",
        "print('A raiz encontrada foi de ' , (a+b)/2)\n",
        "print('O número de iteraçõs foi ', k)"
      ]
    }
  ]
}