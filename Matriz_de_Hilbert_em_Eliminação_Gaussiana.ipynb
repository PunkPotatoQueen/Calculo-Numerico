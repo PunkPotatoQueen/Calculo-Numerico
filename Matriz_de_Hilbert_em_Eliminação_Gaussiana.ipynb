{
  "nbformat": 4,
  "nbformat_minor": 0,
  "metadata": {
    "colab": {
      "provenance": [],
      "authorship_tag": "ABX9TyMWdAvUhPC5T6CLoQ8u9wWp",
      "include_colab_link": true
    },
    "kernelspec": {
      "name": "python3",
      "display_name": "Python 3"
    },
    "language_info": {
      "name": "python"
    }
  },
  "cells": [
    {
      "cell_type": "markdown",
      "metadata": {
        "id": "view-in-github",
        "colab_type": "text"
      },
      "source": [
        "<a href=\"https://colab.research.google.com/github/PunkPotatoQueen/Calculo-Numerico/blob/main/Matriz_de_Hilbert_em_Elimina%C3%A7%C3%A3o_Gaussiana.ipynb\" target=\"_parent\"><img src=\"https://colab.research.google.com/assets/colab-badge.svg\" alt=\"Open In Colab\"/></a>"
      ]
    },
    {
      "cell_type": "code",
      "execution_count": 2,
      "metadata": {
        "colab": {
          "base_uri": "https://localhost:8080/"
        },
        "id": "U0qEOK4mwa5N",
        "outputId": "566374d4-38f7-4660-b88a-305dc611990a"
      },
      "outputs": [
        {
          "output_type": "stream",
          "name": "stdout",
          "text": [
            "[[ 1.00000000e+00  5.00000000e-01  3.33333333e-01]\n",
            " [ 0.00000000e+00  8.33333333e-02  8.33333333e-02]\n",
            " [ 0.00000000e+00 -1.38777878e-17  5.55555556e-03]]\n",
            "________________________________________\n",
            "[1.8333333333333333, 0.16666666666666663, 0.0055555555555554526]\n",
            "________________________________________\n",
            "[0.999999999999998, 1.0000000000000122, 0.9999999999999875]\n"
          ]
        }
      ],
      "source": [
        "import numpy as np\n",
        "\n",
        "def matriz_de_Hilbert(n):\n",
        "\n",
        "  A = np.zeros((n,n))\n",
        "\n",
        "  B = n*[0]\n",
        "\n",
        "  for i in range(0,n):\n",
        "    for j in range(0,n):\n",
        "      A[i][j] = 1 / ((i+1) + (j+1) -1)\n",
        "\n",
        "  for i in range(0,n):\n",
        "    s = 0\n",
        "    for j in range(0,n):\n",
        "      s = s + A[i][j]\n",
        "    B[i] = s\n",
        "\n",
        "  return A, B\n",
        "# A é a matriz de Hilbert\n",
        "# B é o vetor de termos independentes\n",
        "\n",
        "def gauss (A, b):\n",
        "  #A matriz dos coeficientes e b vetor de termos independente\n",
        "  n = len(b)\n",
        "\n",
        "  for k in range (0, n-1): #percorre diagonal\n",
        "    pivo = A[k][k]\n",
        "\n",
        "    for i in range (k+1,n): #percorre  linha\n",
        "      m = A[i][k]/pivo\n",
        "\n",
        "      for j in range (k,n): #percorre coluna\n",
        "        A[i][j]= A[i][j] - m*A[k][j]\n",
        "\n",
        "      b[i] = b[i]-m*b[k]\n",
        "  return A,b\n",
        "\n",
        "def subs_reversa (At,bt):\n",
        "  n = len(bt)\n",
        "  x = n*[0] #vetor solução\n",
        "  x[n-1] = bt[n-1]/A[n-1][n-1]\n",
        "\n",
        "  for k in range (n-2, -1, -1):#percorre as linhas de baixo para cima\n",
        "    s = 0\n",
        "    for j in range (k+1,n):\n",
        "      s = s + A[k][j]*x[j]\n",
        "    x[k] = (bt[k] -s) / A[k][k]\n",
        "  return x #retorna a solução do SL A*x = b\n",
        "\n",
        "A, B = matriz_de_Hilbert(3)\n",
        "A_t, B_t = gauss(A, B)\n",
        "\n",
        "print(A_t)\n",
        "print(20*'__')\n",
        "print(B_t)\n",
        "print(20*'__')\n",
        "\n",
        "x = subs_reversa(A_t, B_t)\n",
        "print(x)"
      ]
    }
  ]
}