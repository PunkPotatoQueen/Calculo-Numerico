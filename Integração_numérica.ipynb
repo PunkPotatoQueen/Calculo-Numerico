{
  "nbformat": 4,
  "nbformat_minor": 0,
  "metadata": {
    "colab": {
      "provenance": [],
      "authorship_tag": "ABX9TyMaIWyTLKPQq0bKygjp3kCQ",
      "include_colab_link": true
    },
    "kernelspec": {
      "name": "python3",
      "display_name": "Python 3"
    },
    "language_info": {
      "name": "python"
    }
  },
  "cells": [
    {
      "cell_type": "markdown",
      "metadata": {
        "id": "view-in-github",
        "colab_type": "text"
      },
      "source": [
        "<a href=\"https://colab.research.google.com/github/PunkPotatoQueen/Calculo-Numerico/blob/main/Integra%C3%A7%C3%A3o_num%C3%A9rica.ipynb\" target=\"_parent\"><img src=\"https://colab.research.google.com/assets/colab-badge.svg\" alt=\"Open In Colab\"/></a>"
      ]
    },
    {
      "cell_type": "code",
      "execution_count": 3,
      "metadata": {
        "colab": {
          "base_uri": "https://localhost:8080/"
        },
        "id": "1lzu0kEzHI0X",
        "outputId": "5f6d4dc5-66f7-43be-eee4-45a37e99f3a9"
      },
      "outputs": [
        {
          "output_type": "stream",
          "name": "stdout",
          "text": [
            "O valor da integral com erro < 0.0001 é aproximadamente: 0.7468059063416395\n"
          ]
        }
      ],
      "source": [
        "import math\n",
        "\n",
        "def funcao(x):\n",
        "    return math.exp(-x**2)\n",
        "\n",
        "def regra_trapezios(a, b, n):\n",
        "    h = (b - a) / n\n",
        "    integral = (funcao(a) + funcao(b)) / 2.0\n",
        "    for i in range(1, n):\n",
        "        x_i = a + i * h\n",
        "        integral += funcao(x_i)\n",
        "    integral *= h\n",
        "    return integral\n",
        "\n",
        "def N(a, b, erro):\n",
        "    f2linhaMAX = 4.0 * math.exp(-a**2)\n",
        "    n = math.ceil(math.sqrt((b - a)**3 * f2linhaMAX / (12 * erro)))\n",
        "    return n\n",
        "\n",
        "a = 0\n",
        "b = 1\n",
        "erro = 10**(-4)\n",
        "\n",
        "n = N(a, b, erro)\n",
        "r = regra_trapezios(a, b, n)\n",
        "\n",
        "print(f\"O valor da integral com erro < {erro} é aproximadamente: {r}\")\n"
      ]
    }
  ]
}