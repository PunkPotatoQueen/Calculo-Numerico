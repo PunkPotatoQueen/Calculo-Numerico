{
  "nbformat": 4,
  "nbformat_minor": 0,
  "metadata": {
    "colab": {
      "provenance": [],
      "authorship_tag": "ABX9TyPOO+9lqaLPMBnxQSZEZaQN",
      "include_colab_link": true
    },
    "kernelspec": {
      "name": "python3",
      "display_name": "Python 3"
    },
    "language_info": {
      "name": "python"
    }
  },
  "cells": [
    {
      "cell_type": "markdown",
      "metadata": {
        "id": "view-in-github",
        "colab_type": "text"
      },
      "source": [
        "<a href=\"https://colab.research.google.com/github/PunkPotatoQueen/Calculo-Numerico/blob/main/Interpola%C3%A7%C3%A3o_polinomial.ipynb\" target=\"_parent\"><img src=\"https://colab.research.google.com/assets/colab-badge.svg\" alt=\"Open In Colab\"/></a>"
      ]
    },
    {
      "cell_type": "code",
      "execution_count": 1,
      "metadata": {
        "colab": {
          "base_uri": "https://localhost:8080/"
        },
        "id": "i4WkszPJ7gsQ",
        "outputId": "36c6f08d-d74a-4fcf-ab05-0904e83c6ab1"
      },
      "outputs": [
        {
          "output_type": "stream",
          "name": "stdout",
          "text": [
            "O calor específico interpolado para 32.5 graus Celsius é: 0.9981712500000001\n"
          ]
        }
      ],
      "source": [
        "def interpolacao_lagrange(x, lista_x, lista_y):\n",
        "    n = len(lista_x)\n",
        "    resultado = 0.0\n",
        "\n",
        "    for i in range(n):\n",
        "        termo = lista_y[i]\n",
        "        for j in range(n):\n",
        "            if j != i:\n",
        "                termo *= (x - lista_x[j]) / (lista_x[i] - lista_x[j])\n",
        "        resultado += termo\n",
        "\n",
        "    return resultado\n",
        "\n",
        "# Tabela de dados\n",
        "lista_x = [35, 40, 45]\n",
        "lista_y = [0.99818, 0.99828, 0.99849]\n",
        "\n",
        "# Valor de x a ser interpolado\n",
        "x_interpolado = 32.5\n",
        "\n",
        "# Realizando a interpolação\n",
        "y_interpolado = interpolacao_lagrange(x_interpolado, lista_x, lista_y)\n",
        "\n",
        "print(\"O calor específico interpolado para\", x_interpolado, \"graus Celsius é:\", y_interpolado)\n"
      ]
    },
    {
      "cell_type": "code",
      "source": [],
      "metadata": {
        "id": "1yMdQKHB8R2V"
      },
      "execution_count": null,
      "outputs": []
    }
  ]
}