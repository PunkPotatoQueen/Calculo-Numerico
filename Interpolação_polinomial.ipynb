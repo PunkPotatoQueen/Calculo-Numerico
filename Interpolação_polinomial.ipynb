{
  "nbformat": 4,
  "nbformat_minor": 0,
  "metadata": {
    "colab": {
      "provenance": [],
      "authorship_tag": "ABX9TyPgfw6OQdf8hLD6ymG/g0qT",
      "include_colab_link": true
    },
    "kernelspec": {
      "name": "python3",
      "display_name": "Python 3"
    },
    "language_info": {
      "name": "python"
    }
  },
  "cells": [
    {
      "cell_type": "markdown",
      "metadata": {
        "id": "view-in-github",
        "colab_type": "text"
      },
      "source": [
        "<a href=\"https://colab.research.google.com/github/PunkPotatoQueen/Calculo-Numerico/blob/main/Interpola%C3%A7%C3%A3o_polinomial.ipynb\" target=\"_parent\"><img src=\"https://colab.research.google.com/assets/colab-badge.svg\" alt=\"Open In Colab\"/></a>"
      ]
    },
    {
      "cell_type": "code",
      "execution_count": null,
      "metadata": {
        "colab": {
          "base_uri": "https://localhost:8080/"
        },
        "id": "i4WkszPJ7gsQ",
        "outputId": "5a90ef3c-df6a-4801-ca30-0035523fa552"
      },
      "outputs": [
        {
          "output_type": "stream",
          "name": "stdout",
          "text": [
            "O polinômio gerado é: 0.99818 * (x - 40) / (35 - 40) * (x - 45) / (35 - 45)0.99828 * (x - 35) / (40 - 35) * (x - 45) / (40 - 45)0.99849 * (x - 35) / (45 - 35) * (x - 40) / (45 - 40)\n",
            "O calor específico interpolado para 32.5 graus Celsius é: 0.9981712500000001\n"
          ]
        }
      ],
      "source": [
        "def interpolacao_lagrange(x, lista_x, lista_y):\n",
        "    n = len(lista_x)\n",
        "    resultado = 0.0\n",
        "    polinomio = \"\"\n",
        "\n",
        "    for i in range(n):\n",
        "        termo = lista_y[i]\n",
        "        polinomio_termo = str(lista_y[i])\n",
        "\n",
        "        for j in range(n):\n",
        "            if j != i:\n",
        "                termo *= (x - lista_x[j]) / (lista_x[i] - lista_x[j])\n",
        "                polinomio_termo += f\" * (x - {lista_x[j]}) / ({lista_x[i]} - {lista_x[j]})\"\n",
        "\n",
        "        resultado += termo\n",
        "        polinomio += polinomio_termo\n",
        "\n",
        "    return resultado, polinomio\n",
        "\n",
        "# Tabela de dados\n",
        "lista_x = [35, 40, 45]\n",
        "lista_y = [0.99818, 0.99828, 0.99849]\n",
        "\n",
        "# Valor de x a ser interpolado\n",
        "x_interpolado = 32.5\n",
        "\n",
        "# Realizando a interpolação\n",
        "y_interpolado, polinomio = interpolacao_lagrange(x_interpolado, lista_x, lista_y)\n",
        "\n",
        "print(\"O polinômio gerado é:\", polinomio)\n",
        "print(\"O calor específico interpolado para\", x_interpolado, \"graus Celsius é:\", y_interpolado)\n"
      ]
    },
    {
      "cell_type": "code",
      "source": [
        "def interpolacao_lagrange(x, lista_x, lista_y):\n",
        "    n = len(lista_x)\n",
        "    resultado = 0.0\n",
        "    polinomio = \"\"\n",
        "\n",
        "    for i in range(n):\n",
        "        termo = lista_y[i]\n",
        "        polinomio_termo = str(lista_y[i])\n",
        "\n",
        "        for j in range(n):\n",
        "            if j != i:\n",
        "                termo *= (x - lista_x[j]) / (lista_x[i] - lista_x[j])\n",
        "                polinomio_termo += f\" * (x - {lista_x[j]}) / ({lista_x[i]} - {lista_x[j]})\"\n",
        "\n",
        "        resultado += termo\n",
        "        polinomio += polinomio_termo\n",
        "\n",
        "    return resultado, polinomio\n",
        "\n",
        "\n",
        "def interpolação_inversa(y, lista_x, lista_y):\n",
        "    n = len(lista_x)\n",
        "    resultado = 0.0\n",
        "\n",
        "    for i in range(n):\n",
        "        termo = lista_x[i]\n",
        "        for j in range(n):\n",
        "            if j != i:\n",
        "                termo *= (y - lista_y[j]) / (lista_y[i] - lista_y[j])\n",
        "        resultado += termo\n",
        "\n",
        "    return resultado\n",
        "\n",
        "\n",
        "# Tabela de dados\n",
        "lista_x = [35, 40, 45]\n",
        "lista_y = [0.99818, 0.99828, 0.99849]\n",
        "\n",
        "# Valor de x a ser interpolado\n",
        "x_interpolado = 32.5\n",
        "\n",
        "# Realizando a interpolação\n",
        "y_interpolado, polinomio = interpolacao_lagrange(x_interpolado, lista_x, lista_y)\n",
        "\n",
        "print(\"O polinômio gerado é:\", polinomio)\n",
        "print(\"O calor específico interpolado para\", x_interpolado, \"graus Celsius é:\", y_interpolado)\n",
        "\n",
        "# Fazendo a interpolação inversa\n",
        "calor_especifico = 0.99837\n",
        "temperatura = interpolação_inversa(calor_especifico, lista_x, lista_y)\n",
        "\n",
        "print(\"A temperatura interpolada para o calor específico\", calor_especifico, \"é:\", temperatura, \"graus Celsius\")\n"
      ],
      "metadata": {
        "id": "1yMdQKHB8R2V",
        "colab": {
          "base_uri": "https://localhost:8080/"
        },
        "outputId": "0c159e81-33b4-4956-da3d-478203388352"
      },
      "execution_count": 12,
      "outputs": [
        {
          "output_type": "stream",
          "name": "stdout",
          "text": [
            "O polinômio gerado é: 0.99818 * (x - 40) / (35 - 40) * (x - 45) / (35 - 45)0.99828 * (x - 35) / (40 - 35) * (x - 45) / (40 - 45)0.99849 * (x - 35) / (45 - 35) * (x - 40) / (45 - 40)\n",
            "O calor específico interpolado para 32.5 graus Celsius é: 0.9981712500000001\n",
            "A temperatura interpolada para o calor específico 0.99837 é: 43.05529953917157 graus Celsius\n"
          ]
        }
      ]
    }
  ]
}